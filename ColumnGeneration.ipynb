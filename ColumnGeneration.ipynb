{
  "nbformat": 4,
  "nbformat_minor": 0,
  "metadata": {
    "colab": {
      "provenance": [],
      "authorship_tag": "ABX9TyOQwz+t4CbPKB3gVt9TRZk+",
      "include_colab_link": true
    },
    "kernelspec": {
      "name": "python3",
      "display_name": "Python 3"
    },
    "language_info": {
      "name": "python"
    }
  },
  "cells": [
    {
      "cell_type": "markdown",
      "metadata": {
        "id": "view-in-github",
        "colab_type": "text"
      },
      "source": [
        "<a href=\"https://colab.research.google.com/github/TheAmirHK/ColumnGenerationDecomposition/blob/main/ColumnGeneration.ipynb\" target=\"_parent\"><img src=\"https://colab.research.google.com/assets/colab-badge.svg\" alt=\"Open In Colab\"/></a>"
      ]
    },
    {
      "cell_type": "code",
      "execution_count": null,
      "metadata": {
        "id": "AD2dYR_qmAX_"
      },
      "outputs": [],
      "source": [
        "!pip install mip"
      ]
    },
    {
      "cell_type": "code",
      "source": [
        "from mip import Model, xsum, MINIMIZE, INTEGER, CONTINUOUS\n",
        "from mip import OptimizationStatus"
      ],
      "metadata": {
        "id": "fZPebozwn6HF"
      },
      "execution_count": 4,
      "outputs": []
    },
    {
      "cell_type": "code",
      "source": [
        "# Original Problem\n",
        "#-------------\n",
        "model = Model(sense=MINIMIZE)\n",
        "\n",
        "x1 = model.add_var(var_type=CONTINUOUS, lb=0)\n",
        "x2 = model.add_var(var_type=CONTINUOUS, lb=0)\n",
        "y1 = model.add_var(var_type=CONTINUOUS, lb=0)\n",
        "y2 = model.add_var(var_type=CONTINUOUS, lb=0)\n",
        "y3 = model.add_var(var_type=CONTINUOUS, lb=0)\n",
        "\n",
        "model.objective = 10*x1 + 22*x2 + y1 + 7*y2 + 9*y3\n",
        "\n",
        "# S.t.\n",
        "model += x1 + 6*x2 + y1 - 5*y3 >= 15\n",
        "model += -2*x2 + 2*y1 + y2 <= 8\n",
        "\n",
        "model.optimize()\n",
        "\n",
        "if model.status == OptimizationStatus.OPTIMAL:\n",
        "    print(f\"Optimal Solution Found!\")\n",
        "    print(f\"x1 = {x1.x}, x2 = {x2.x}\")\n",
        "    print(f\"y1 = {y1.x}, y2 = {y2.x}, y3 = {y3.x}\")\n",
        "    print(f\"Optimal Objective Value = {model.objective_value}\")\n",
        "else:\n",
        "    print(\"No optimal solution found.\")\n"
      ],
      "metadata": {
        "colab": {
          "base_uri": "https://localhost:8080/"
        },
        "id": "OK9K2OahoVS8",
        "outputId": "7045acf6-c2da-469c-9b75-09a161cf388e"
      },
      "execution_count": 61,
      "outputs": [
        {
          "output_type": "stream",
          "name": "stdout",
          "text": [
            "Optimal Solution Found!\n",
            "x1 = 0.0, x2 = 1.5714285714285714\n",
            "y1 = 5.571428571428572, y2 = 0.0, y3 = 0.0\n",
            "Optimal Objective Value = 40.14285714285714\n"
          ]
        }
      ]
    },
    {
      "cell_type": "code",
      "source": [
        "# Decomposed problem\n",
        "#-------------------\n",
        "\n",
        "\n",
        "# Master problem\n",
        "#---------------\n",
        "master = Model(sense=MINIMIZE)\n",
        "\n",
        "x1 = master.add_var(var_type=CONTINUOUS, lb=0, name=\"x1\")\n",
        "x2 = master.add_var(var_type=CONTINUOUS, lb=0, name=\"x2\")\n",
        "\n",
        "coeff_constr1 = {x1: 1, x2: 6}\n",
        "coeff_constr2 = {x2: -2}\n",
        "\n",
        "master += xsum(coeff_constr1[var] * var for var in coeff_constr1) >= 15, \"constr1\"\n",
        "master += xsum(coeff_constr2[var] * var for var in coeff_constr2) <= 8, \"constr2\"\n",
        "master.objective = 10 * x1 + 22 * x2\n",
        "\n",
        "# Subproblems\n",
        "#-----------\n",
        "improvement = True\n",
        "while improvement:\n",
        "    master.optimize()\n",
        "\n",
        "    # dual values\n",
        "    pi1 = master.constr_by_name(\"constr1\").pi\n",
        "    pi2 = master.constr_by_name(\"constr2\").pi\n",
        "\n",
        "    rc_y1 = 1 - pi1 - 2*pi2\n",
        "    rc_y2 = 7 - pi2\n",
        "    rc_y3 = 9 + 5 * pi1\n",
        "\n",
        "    min_rc = min(rc_y1, rc_y2, rc_y3)\n",
        "\n",
        "    if min_rc >= -1e-6:\n",
        "        improvement = False\n",
        "    else:\n",
        "        master.remove(master.constr_by_name(\"constr1\"))\n",
        "        master.remove(master.constr_by_name(\"constr2\"))\n",
        "\n",
        "        if min_rc == rc_y1:\n",
        "            y = master.add_var(var_type=CONTINUOUS, lb=0, name=f\"y1_{master.num_cols}\")\n",
        "            coeff_constr1[y] = 1\n",
        "            coeff_constr2[y] = 2\n",
        "            master.objective += 1 * y\n",
        "        elif min_rc == rc_y2:\n",
        "            y = master.add_var(var_type=CONTINUOUS, lb=0, name=f\"y2_{master.num_cols}\")\n",
        "            coeff_constr2[y] = 1\n",
        "            master.objective += 7 * y\n",
        "        else:\n",
        "            y = master.add_var(var_type=CONTINUOUS, lb=0, name=f\"y3_{master.num_cols}\")\n",
        "            coeff_constr1[y] = -5\n",
        "            master.objective += 9 * y\n",
        "\n",
        "        master += xsum(coeff_constr1[var] * var for var in coeff_constr1) >= 15, \"constr1\"\n",
        "        master += xsum(coeff_constr2[var] * var for var in coeff_constr2) <= 8, \"constr2\"\n",
        "\n",
        "if master.status == OptimizationStatus.OPTIMAL:\n",
        "    print(\"Optimal Solution Found!\")\n",
        "    for v in master.vars:\n",
        "        print(f\"{v.name} = {v.x}\")\n",
        "    print(f\"Objective = {master.objective_value}\")\n",
        "else:\n",
        "    print(\"No optimal solution found.\")"
      ],
      "metadata": {
        "colab": {
          "base_uri": "https://localhost:8080/"
        },
        "id": "LT2zMLWOq_xJ",
        "outputId": "6dbe6406-8b36-4e93-9d1b-66925e162aec"
      },
      "execution_count": 65,
      "outputs": [
        {
          "output_type": "stream",
          "name": "stdout",
          "text": [
            "Optimal Solution Found!\n",
            "x1 = 0.0\n",
            "x2 = 1.5714285714285714\n",
            "y1_2 = 5.571428571428572\n",
            "Objective = 40.14285714285714\n"
          ]
        }
      ]
    }
  ]
}